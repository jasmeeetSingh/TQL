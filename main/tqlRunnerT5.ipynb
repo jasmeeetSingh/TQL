{
 "cells": [
  {
   "cell_type": "code",
   "execution_count": 1,
   "id": "caf71172-60af-40ab-9d88-6e25e71750a7",
   "metadata": {},
   "outputs": [],
   "source": [
    "from TQLRunnerT5 import TQLRunner"
   ]
  },
  {
   "cell_type": "code",
   "execution_count": 2,
   "id": "349dfc11-d728-4c3c-9537-c331549aaf33",
   "metadata": {},
   "outputs": [
    {
     "name": "stdout",
     "output_type": "stream",
     "text": [
      "All libraries loaded\n",
      "LLM Model initialized\n"
     ]
    }
   ],
   "source": [
    "tqlRunner = TQLRunner('yelp')"
   ]
  },
  {
   "cell_type": "code",
   "execution_count": 3,
   "id": "fd53e13c-8c48-4103-ac3b-b3113af611a8",
   "metadata": {},
   "outputs": [
    {
     "name": "stdout",
     "output_type": "stream",
     "text": [
      "SQL query for: How many reviews are there in the database with tables: CREATE TABLE review (rid number, business_id text, user_id text, rating number, text text, year number, month text) which has rid as primary key\n"
     ]
    },
    {
     "data": {
      "text/plain": [
       "'SELECT count(*) FROM review'"
      ]
     },
     "execution_count": 3,
     "metadata": {},
     "output_type": "execute_result"
    }
   ],
   "source": [
    "input_text = 'How many reviews are there in the database'\n",
    "tqlRunner.get_SQL_query(input_text)"
   ]
  },
  {
   "cell_type": "code",
   "execution_count": 4,
   "id": "c2abb6e8-0a3b-46bb-8ae3-908d916551e8",
   "metadata": {},
   "outputs": [
    {
     "name": "stdout",
     "output_type": "stream",
     "text": [
      "SQL query for: How many businesses are there in \"Vegas\" with tables: CREATE TABLE business (bid number, business_id text, name text, full_address text, city text, latitude text, longitude text, review_count number, is_open number, rating number, state text) which has bid as primary key\n"
     ]
    },
    {
     "data": {
      "text/plain": [
       "'SELECT count(*) FROM business WHERE city = \"Vegas\"'"
      ]
     },
     "execution_count": 4,
     "metadata": {},
     "output_type": "execute_result"
    }
   ],
   "source": [
    "input_text = 'How many businesses are there in \"Vegas\"'\n",
    "tqlRunner.get_SQL_query(input_text)"
   ]
  },
  {
   "cell_type": "code",
   "execution_count": 5,
   "id": "0fa95992-db56-49eb-a67c-0e254b89a237",
   "metadata": {},
   "outputs": [
    {
     "name": "stdout",
     "output_type": "stream",
     "text": [
      "All libraries loaded\n",
      "LLM Model initialized\n"
     ]
    }
   ],
   "source": [
    "tqlRunner = TQLRunner('college_2')"
   ]
  },
  {
   "cell_type": "code",
   "execution_count": 6,
   "id": "5a4c0835-2acc-49aa-9bb3-467c0166c171",
   "metadata": {},
   "outputs": [
    {
     "name": "stdout",
     "output_type": "stream",
     "text": [
      "SQL query for: What are the room numbers and corresponding buildings for classrooms which can seat between 50 to 100 students? with tables: CREATE TABLE classroom (building text, room_number text, capacity number) which has building as primary key and CREATE TABLE student (ID text, name text, dept_name text, tot_cred number) which has ID as primary key and CREATE TABLE section (course_id text, sec_id text, semester text, year number, building text, room_number text, time_slot_id text) which has course_id as primary key\n"
     ]
    },
    {
     "data": {
      "text/plain": [
       "'SELECT room_number, building FROM classroom WHERE capacity BETWEEN 50 AND 100'"
      ]
     },
     "execution_count": 6,
     "metadata": {},
     "output_type": "execute_result"
    }
   ],
   "source": [
    "tqlRunner.get_SQL_query('What are the room numbers and corresponding buildings for classrooms which can seat between 50 to 100 students?')"
   ]
  },
  {
   "cell_type": "code",
   "execution_count": 7,
   "id": "29e0d66b-2722-4bd0-bd75-83ffe051c679",
   "metadata": {},
   "outputs": [
    {
     "name": "stdout",
     "output_type": "stream",
     "text": [
      "SQL query for: How many professors are there in chem department with tables: CREATE TABLE department (dept_name text, building text, budget number) which has dept_name as primary key\n"
     ]
    },
    {
     "data": {
      "text/plain": [
       "\"SELECT count(*) FROM department WHERE dept_name = 'chem'\""
      ]
     },
     "execution_count": 7,
     "metadata": {},
     "output_type": "execute_result"
    }
   ],
   "source": [
    "tqlRunner.get_SQL_query('How many professors are there in chem department')"
   ]
  },
  {
   "cell_type": "code",
   "execution_count": 8,
   "id": "03ae494d-3441-4bec-8231-eee971142dcb",
   "metadata": {},
   "outputs": [],
   "source": [
    "# tqlRunner.get_SQL_query('How many professors are there in chem dept')"
   ]
  },
  {
   "cell_type": "code",
   "execution_count": 9,
   "id": "623c42ac-6359-4c68-83ff-3e75b175d050",
   "metadata": {},
   "outputs": [
    {
     "name": "stdout",
     "output_type": "stream",
     "text": [
      "SQL query for: students name beginning with \"Nam\" with tables: CREATE TABLE student (ID text, name text, dept_name text, tot_cred number) which has ID as primary key and CREATE TABLE course (course_id text, title text, dept_name text, credits number) which has course_id as primary key and CREATE TABLE instructor (ID text, name text, dept_name text, salary number) which has ID as primary key\n"
     ]
    },
    {
     "data": {
      "text/plain": [
       "\"SELECT name FROM student WHERE name LIKE 'Nam'\""
      ]
     },
     "execution_count": 9,
     "metadata": {},
     "output_type": "execute_result"
    }
   ],
   "source": [
    "tqlRunner.get_SQL_query('students name beginning with \"Nam\"')"
   ]
  },
  {
   "cell_type": "code",
   "execution_count": 10,
   "id": "936d6119-759d-4f94-b6ec-187b25e0d3ad",
   "metadata": {},
   "outputs": [
    {
     "name": "stdout",
     "output_type": "stream",
     "text": [
      "SQL query for: What is the name and building of the departments whose budget is more than the average budget? with tables: CREATE TABLE department (dept_name text, building text, budget number) which has dept_name as primary key and CREATE TABLE instructor (ID text, name text, dept_name text, salary number) which has ID as primary key and CREATE TABLE student (ID text, name text, dept_name text, tot_cred number) which has ID as primary key\n"
     ]
    },
    {
     "data": {
      "text/plain": [
       "'SELECT dept_name, building FROM department WHERE budget > (SELECT avg(budget) FROM department)'"
      ]
     },
     "execution_count": 10,
     "metadata": {},
     "output_type": "execute_result"
    }
   ],
   "source": [
    "tqlRunner.get_SQL_query('What is the name and building of the departments whose budget is more than the average budget?')"
   ]
  },
  {
   "cell_type": "code",
   "execution_count": 11,
   "id": "5da2cf46-d238-445e-b47d-8132e82feed2",
   "metadata": {},
   "outputs": [
    {
     "name": "stdout",
     "output_type": "stream",
     "text": [
      "All libraries loaded\n",
      "LLM Model initialized\n"
     ]
    }
   ],
   "source": [
    "tqlRunner = TQLRunner('student_assessment')"
   ]
  },
  {
   "cell_type": "code",
   "execution_count": 15,
   "id": "6f60c3a8-2e6c-45f9-9ef5-6e88e7b40c58",
   "metadata": {},
   "outputs": [
    {
     "name": "stdout",
     "output_type": "stream",
     "text": [
      "SQL query for: What are the id of students who registered courses or attended courses? with tables: CREATE TABLE courses (course_id text, course_name text, course_description text, other_details text) which has course_id as primary key and CREATE TABLE student course attendance (student_id number, course_id number, date_of_attendance time) which has student_id as primary key and CREATE TABLE student course registrations (student_id number, course_id number, registration_date time) which has student_id as primary key\n"
     ]
    },
    {
     "data": {
      "text/plain": [
       "'SELECT student_id FROM student_course_registrations AS T1 JOIN student_course_attendance AS T2 ON T1.student_id = T2.student_id'"
      ]
     },
     "execution_count": 15,
     "metadata": {},
     "output_type": "execute_result"
    }
   ],
   "source": [
    "tqlRunner.get_SQL_query('What are the id of students who registered courses or attended courses?')"
   ]
  },
  {
   "cell_type": "code",
   "execution_count": null,
   "id": "65e185f1-f4e0-470e-8914-4415d9365d40",
   "metadata": {},
   "outputs": [],
   "source": []
  }
 ],
 "metadata": {
  "environment": {
   "kernel": "python3",
   "name": "pytorch-gpu.1-13.m112",
   "type": "gcloud",
   "uri": "gcr.io/deeplearning-platform-release/pytorch-gpu.1-13:m112"
  },
  "kernelspec": {
   "display_name": "Python 3",
   "language": "python",
   "name": "python3"
  },
  "language_info": {
   "codemirror_mode": {
    "name": "ipython",
    "version": 3
   },
   "file_extension": ".py",
   "mimetype": "text/x-python",
   "name": "python",
   "nbconvert_exporter": "python",
   "pygments_lexer": "ipython3",
   "version": "3.10.12"
  }
 },
 "nbformat": 4,
 "nbformat_minor": 5
}
