{
 "cells": [
  {
   "cell_type": "code",
   "execution_count": 1,
   "id": "6102238c-9fe9-40fd-a314-1de51e4edf9a",
   "metadata": {},
   "outputs": [
    {
     "name": "stdout",
     "output_type": "stream",
     "text": [
      "INFO: Pandarallel will run on 15 workers.\n",
      "INFO: Pandarallel will use Memory file system to transfer data between the main process and workers.\n"
     ]
    }
   ],
   "source": [
    "from pandarallel import pandarallel\n",
    "pandarallel.initialize(progress_bar=True, nb_workers = 15)\n",
    "\n",
    "import matplotlib.pyplot as plt\n",
    "import numpy as np"
   ]
  },
  {
   "cell_type": "code",
   "execution_count": 2,
   "id": "47b5c95c-7fea-4341-a37f-9207197e9682",
   "metadata": {},
   "outputs": [],
   "source": [
    "import sys\n",
    "sys.path.append('../utils/')\n",
    "\n",
    "from utils import *\n",
    "from TableMapper import *\n",
    "\n",
    "from tqdm.notebook import tqdm\n",
    "tqdm.pandas()"
   ]
  },
  {
   "cell_type": "code",
   "execution_count": 3,
   "id": "ac822b22-ca2b-42d5-8a8c-68240110d449",
   "metadata": {},
   "outputs": [],
   "source": [
    "query, schema = get_spider_schema_table_files()\n",
    "tableMapper = TableMapper(query, schema)"
   ]
  },
  {
   "cell_type": "code",
   "execution_count": 4,
   "id": "3121a1c9-dcf8-4949-9868-336ee5c1444e",
   "metadata": {},
   "outputs": [],
   "source": [
    "res = []\n",
    "count1 = 0\n",
    "count2 = 0\n",
    "excess = 0\n",
    "def get_counts(schemas):\n",
    "    count1 = 0\n",
    "    count2 = 0\n",
    "    excess = 0\n",
    "    i = schemas\n",
    "    s, t = tableMapper.get_filtered_schema(i)\n",
    "    count_match, count_all, excess_c = tableMapper.get_exact_match_accuracy(s, t, threshold=0.33)\n",
    "    count1 += count_match\n",
    "    count2 += count_all\n",
    "    excess += excess_c\n",
    "    if(count1 == 0):\n",
    "        print(i)\n",
    "\n",
    "    res = [i, count_match/count_all, len(s), len(t)]\n",
    "    \n",
    "    return count1, count2, res, excess"
   ]
  },
  {
   "cell_type": "code",
   "execution_count": 5,
   "id": "d18ff0fa-11c2-465f-98c8-c411f9772982",
   "metadata": {},
   "outputs": [
    {
     "data": {
      "application/vnd.jupyter.widget-view+json": {
       "model_id": "40ab3994f91e41b1b463f8735e310497",
       "version_major": 2,
       "version_minor": 0
      },
      "text/plain": [
       "VBox(children=(HBox(children=(IntProgress(value=0, description='0.00%', max=12), Label(value='0 / 12'))), HBox…"
      ]
     },
     "metadata": {},
     "output_type": "display_data"
    },
    {
     "name": "stdout",
     "output_type": "stream",
     "text": [
      "CPU times: user 289 ms, sys: 253 ms, total: 542 ms\n",
      "Wall time: 49.5 s\n"
     ]
    }
   ],
   "source": [
    "%%time\n",
    "count_df = pd.Series(list(set(schema.schema_id.values))).\\\n",
    "    rename({0 : 'schemas'}).\\\n",
    "    parallel_apply(get_counts)"
   ]
  },
  {
   "cell_type": "code",
   "execution_count": 6,
   "id": "1217823e-f5dd-4693-a9ad-e15dc4a46fdd",
   "metadata": {},
   "outputs": [
    {
     "data": {
      "text/html": [
       "<div>\n",
       "<style scoped>\n",
       "    .dataframe tbody tr th:only-of-type {\n",
       "        vertical-align: middle;\n",
       "    }\n",
       "\n",
       "    .dataframe tbody tr th {\n",
       "        vertical-align: top;\n",
       "    }\n",
       "\n",
       "    .dataframe thead th {\n",
       "        text-align: right;\n",
       "    }\n",
       "</style>\n",
       "<table border=\"1\" class=\"dataframe\">\n",
       "  <thead>\n",
       "    <tr style=\"text-align: right;\">\n",
       "      <th></th>\n",
       "      <th>count1</th>\n",
       "      <th>count2</th>\n",
       "      <th>res</th>\n",
       "      <th>pct_excess</th>\n",
       "    </tr>\n",
       "  </thead>\n",
       "  <tbody>\n",
       "    <tr>\n",
       "      <th>0</th>\n",
       "      <td>38</td>\n",
       "      <td>46</td>\n",
       "      <td>[aircraft, 0.8260869565217391, 5, 46]</td>\n",
       "      <td>0.695652</td>\n",
       "    </tr>\n",
       "    <tr>\n",
       "      <th>1</th>\n",
       "      <td>18</td>\n",
       "      <td>18</td>\n",
       "      <td>[museum_visit, 1.0, 3, 18]</td>\n",
       "      <td>0.777778</td>\n",
       "    </tr>\n",
       "    <tr>\n",
       "      <th>2</th>\n",
       "      <td>9</td>\n",
       "      <td>14</td>\n",
       "      <td>[soccer_1, 0.6428571428571429, 7, 14]</td>\n",
       "      <td>0.357143</td>\n",
       "    </tr>\n",
       "    <tr>\n",
       "      <th>3</th>\n",
       "      <td>17</td>\n",
       "      <td>17</td>\n",
       "      <td>[roller_coaster, 1.0, 2, 17]</td>\n",
       "      <td>0.000000</td>\n",
       "    </tr>\n",
       "    <tr>\n",
       "      <th>4</th>\n",
       "      <td>3</td>\n",
       "      <td>4</td>\n",
       "      <td>[real_estate_properties, 0.75, 5, 4]</td>\n",
       "      <td>0.000000</td>\n",
       "    </tr>\n",
       "    <tr>\n",
       "      <th>...</th>\n",
       "      <td>...</td>\n",
       "      <td>...</td>\n",
       "      <td>...</td>\n",
       "      <td>...</td>\n",
       "    </tr>\n",
       "    <tr>\n",
       "      <th>169</th>\n",
       "      <td>18</td>\n",
       "      <td>18</td>\n",
       "      <td>[journal_committee, 1.0, 3, 18]</td>\n",
       "      <td>0.777778</td>\n",
       "    </tr>\n",
       "    <tr>\n",
       "      <th>170</th>\n",
       "      <td>15</td>\n",
       "      <td>18</td>\n",
       "      <td>[browser_web, 0.8333333333333334, 3, 18]</td>\n",
       "      <td>0.611111</td>\n",
       "    </tr>\n",
       "    <tr>\n",
       "      <th>171</th>\n",
       "      <td>18</td>\n",
       "      <td>19</td>\n",
       "      <td>[flight_company, 0.9473684210526315, 3, 19]</td>\n",
       "      <td>0.684211</td>\n",
       "    </tr>\n",
       "    <tr>\n",
       "      <th>172</th>\n",
       "      <td>62</td>\n",
       "      <td>88</td>\n",
       "      <td>[activity_1, 0.7045454545454546, 5, 88]</td>\n",
       "      <td>0.500000</td>\n",
       "    </tr>\n",
       "    <tr>\n",
       "      <th>173</th>\n",
       "      <td>52</td>\n",
       "      <td>52</td>\n",
       "      <td>[sports_competition, 1.0, 5, 52]</td>\n",
       "      <td>0.596154</td>\n",
       "    </tr>\n",
       "  </tbody>\n",
       "</table>\n",
       "<p>174 rows × 4 columns</p>\n",
       "</div>"
      ],
      "text/plain": [
       "     count1  count2                                          res  pct_excess\n",
       "0        38      46        [aircraft, 0.8260869565217391, 5, 46]    0.695652\n",
       "1        18      18                   [museum_visit, 1.0, 3, 18]    0.777778\n",
       "2         9      14        [soccer_1, 0.6428571428571429, 7, 14]    0.357143\n",
       "3        17      17                 [roller_coaster, 1.0, 2, 17]    0.000000\n",
       "4         3       4         [real_estate_properties, 0.75, 5, 4]    0.000000\n",
       "..      ...     ...                                          ...         ...\n",
       "169      18      18              [journal_committee, 1.0, 3, 18]    0.777778\n",
       "170      15      18     [browser_web, 0.8333333333333334, 3, 18]    0.611111\n",
       "171      18      19  [flight_company, 0.9473684210526315, 3, 19]    0.684211\n",
       "172      62      88      [activity_1, 0.7045454545454546, 5, 88]    0.500000\n",
       "173      52      52             [sports_competition, 1.0, 5, 52]    0.596154\n",
       "\n",
       "[174 rows x 4 columns]"
      ]
     },
     "execution_count": 6,
     "metadata": {},
     "output_type": "execute_result"
    }
   ],
   "source": [
    "df_results = pd.DataFrame()\n",
    "df_results[['count1', 'count2', 'res', 'pct_excess']] = pd.DataFrame(pd.DataFrame(count_df)[0].tolist())\n",
    "df_results"
   ]
  },
  {
   "cell_type": "code",
   "execution_count": 7,
   "id": "9483a2e2-6637-4d32-bedb-7d5b895e6301",
   "metadata": {},
   "outputs": [
    {
     "name": "stdout",
     "output_type": "stream",
     "text": [
      "0.8667400282342044\n",
      "0.7852184964317137\n"
     ]
    },
    {
     "data": {
      "text/html": [
       "<div>\n",
       "<style scoped>\n",
       "    .dataframe tbody tr th:only-of-type {\n",
       "        vertical-align: middle;\n",
       "    }\n",
       "\n",
       "    .dataframe tbody tr th {\n",
       "        vertical-align: top;\n",
       "    }\n",
       "\n",
       "    .dataframe thead th {\n",
       "        text-align: right;\n",
       "    }\n",
       "</style>\n",
       "<table border=\"1\" class=\"dataframe\">\n",
       "  <thead>\n",
       "    <tr style=\"text-align: right;\">\n",
       "      <th></th>\n",
       "      <th>schema_id</th>\n",
       "      <th>score</th>\n",
       "      <th>num_tables</th>\n",
       "      <th>num_queries</th>\n",
       "      <th>excess</th>\n",
       "    </tr>\n",
       "  </thead>\n",
       "  <tbody>\n",
       "    <tr>\n",
       "      <th>0</th>\n",
       "      <td>restaurants</td>\n",
       "      <td>0.008000</td>\n",
       "      <td>3</td>\n",
       "      <td>125</td>\n",
       "      <td>0.695652</td>\n",
       "    </tr>\n",
       "    <tr>\n",
       "      <th>1</th>\n",
       "      <td>scholar</td>\n",
       "      <td>0.022847</td>\n",
       "      <td>10</td>\n",
       "      <td>569</td>\n",
       "      <td>0.777778</td>\n",
       "    </tr>\n",
       "    <tr>\n",
       "      <th>2</th>\n",
       "      <td>academic</td>\n",
       "      <td>0.160221</td>\n",
       "      <td>15</td>\n",
       "      <td>181</td>\n",
       "      <td>0.357143</td>\n",
       "    </tr>\n",
       "    <tr>\n",
       "      <th>3</th>\n",
       "      <td>yelp</td>\n",
       "      <td>0.261261</td>\n",
       "      <td>7</td>\n",
       "      <td>111</td>\n",
       "      <td>0.000000</td>\n",
       "    </tr>\n",
       "    <tr>\n",
       "      <th>4</th>\n",
       "      <td>imdb</td>\n",
       "      <td>0.266055</td>\n",
       "      <td>16</td>\n",
       "      <td>109</td>\n",
       "      <td>0.000000</td>\n",
       "    </tr>\n",
       "    <tr>\n",
       "      <th>...</th>\n",
       "      <td>...</td>\n",
       "      <td>...</td>\n",
       "      <td>...</td>\n",
       "      <td>...</td>\n",
       "      <td>...</td>\n",
       "    </tr>\n",
       "    <tr>\n",
       "      <th>169</th>\n",
       "      <td>local_govt_mdm</td>\n",
       "      <td>1.000000</td>\n",
       "      <td>8</td>\n",
       "      <td>14</td>\n",
       "      <td>0.777778</td>\n",
       "    </tr>\n",
       "    <tr>\n",
       "      <th>170</th>\n",
       "      <td>course_teach</td>\n",
       "      <td>1.000000</td>\n",
       "      <td>3</td>\n",
       "      <td>30</td>\n",
       "      <td>0.611111</td>\n",
       "    </tr>\n",
       "    <tr>\n",
       "      <th>171</th>\n",
       "      <td>orchestra</td>\n",
       "      <td>1.000000</td>\n",
       "      <td>4</td>\n",
       "      <td>40</td>\n",
       "      <td>0.684211</td>\n",
       "    </tr>\n",
       "    <tr>\n",
       "      <th>172</th>\n",
       "      <td>musical</td>\n",
       "      <td>1.000000</td>\n",
       "      <td>2</td>\n",
       "      <td>40</td>\n",
       "      <td>0.500000</td>\n",
       "    </tr>\n",
       "    <tr>\n",
       "      <th>173</th>\n",
       "      <td>sports_competition</td>\n",
       "      <td>1.000000</td>\n",
       "      <td>5</td>\n",
       "      <td>52</td>\n",
       "      <td>0.596154</td>\n",
       "    </tr>\n",
       "  </tbody>\n",
       "</table>\n",
       "<p>174 rows × 5 columns</p>\n",
       "</div>"
      ],
      "text/plain": [
       "              schema_id     score  num_tables  num_queries    excess\n",
       "0           restaurants  0.008000           3          125  0.695652\n",
       "1               scholar  0.022847          10          569  0.777778\n",
       "2              academic  0.160221          15          181  0.357143\n",
       "3                  yelp  0.261261           7          111  0.000000\n",
       "4                  imdb  0.266055          16          109  0.000000\n",
       "..                  ...       ...         ...          ...       ...\n",
       "169      local_govt_mdm  1.000000           8           14  0.777778\n",
       "170        course_teach  1.000000           3           30  0.611111\n",
       "171           orchestra  1.000000           4           40  0.684211\n",
       "172             musical  1.000000           2           40  0.500000\n",
       "173  sports_competition  1.000000           5           52  0.596154\n",
       "\n",
       "[174 rows x 5 columns]"
      ]
     },
     "metadata": {},
     "output_type": "display_data"
    },
    {
     "data": {
      "text/plain": [
       "<AxesSubplot:>"
      ]
     },
     "execution_count": 7,
     "metadata": {},
     "output_type": "execute_result"
    },
    {
     "data": {
      "image/png": "[encoded data removed]",
      "text/plain": [
       "<Figure size 640x480 with 1 Axes>"
      ]
     },
     "metadata": {},
     "output_type": "display_data"
    }
   ],
   "source": [
    "count1 = df_results['count1'].sum()\n",
    "count2 = df_results['count2'].sum()\n",
    "score_df = pd.DataFrame(df_results['res'].tolist(), \n",
    "                columns = ['schema_id', 'score', 'num_tables', 'num_queries']\n",
    "            ).sort_values(by = 'score').reset_index(drop = True)\n",
    "score_df['excess'] = df_results['pct_excess']\n",
    "print(score_df.score.mean())\n",
    "print(count1 / count2)\n",
    "display(score_df)\n",
    "score_df.score.plot()"
   ]
  },
  {
   "cell_type": "code",
   "execution_count": 8,
   "id": "13ddb91a-cc87-477c-bdd3-b81116257139",
   "metadata": {},
   "outputs": [
    {
     "data": {
      "text/html": [
       "<div>\n",
       "<style scoped>\n",
       "    .dataframe tbody tr th:only-of-type {\n",
       "        vertical-align: middle;\n",
       "    }\n",
       "\n",
       "    .dataframe tbody tr th {\n",
       "        vertical-align: top;\n",
       "    }\n",
       "\n",
       "    .dataframe thead th {\n",
       "        text-align: right;\n",
       "    }\n",
       "</style>\n",
       "<table border=\"1\" class=\"dataframe\">\n",
       "  <thead>\n",
       "    <tr style=\"text-align: right;\">\n",
       "      <th></th>\n",
       "      <th>num_tables</th>\n",
       "      <th>excess</th>\n",
       "    </tr>\n",
       "  </thead>\n",
       "  <tbody>\n",
       "    <tr>\n",
       "      <th>num_tables</th>\n",
       "      <td>1.000000</td>\n",
       "      <td>-0.450678</td>\n",
       "    </tr>\n",
       "    <tr>\n",
       "      <th>excess</th>\n",
       "      <td>-0.450678</td>\n",
       "      <td>1.000000</td>\n",
       "    </tr>\n",
       "  </tbody>\n",
       "</table>\n",
       "</div>"
      ],
      "text/plain": [
       "            num_tables    excess\n",
       "num_tables    1.000000 -0.450678\n",
       "excess       -0.450678  1.000000"
      ]
     },
     "metadata": {},
     "output_type": "display_data"
    },
    {
     "data": {
      "image/png": "[encoded data removed]",
      "text/plain": [
       "<Figure size 640x480 with 1 Axes>"
      ]
     },
     "metadata": {},
     "output_type": "display_data"
    }
   ],
   "source": [
    "group_df = score_df.groupby('num_tables').mean()['excess']\n",
    "group_df.plot()\n",
    "display(group_df.reset_index().corr())"
   ]
  },
  {
   "cell_type": "code",
   "execution_count": 9,
   "id": "07cc9f4e-6e34-432c-80b3-f5aa3249532a",
   "metadata": {},
   "outputs": [
    {
     "name": "stdout",
     "output_type": "stream",
     "text": [
      "8032\n",
      "10229\n"
     ]
    }
   ],
   "source": [
    "print(count1)\n",
    "print(count2)\n",
    "\n",
    "# 5194\n",
    "# 9685\n",
    "\n",
    "# 5223\n",
    "# 9685"
   ]
  },
  {
   "cell_type": "code",
   "execution_count": null,
   "id": "37a82968-1295-48b5-9064-3be698f776a9",
   "metadata": {},
   "outputs": [],
   "source": []
  }
 ],
 "metadata": {
  "environment": {
   "kernel": "python3",
   "name": "pytorch-gpu.1-13.m112",
   "type": "gcloud",
   "uri": "gcr.io/deeplearning-platform-release/pytorch-gpu.1-13:m112"
  },
  "kernelspec": {
   "display_name": "Python 3",
   "language": "python",
   "name": "python3"
  },
  "language_info": {
   "codemirror_mode": {
    "name": "ipython",
    "version": 3
   },
   "file_extension": ".py",
   "mimetype": "text/x-python",
   "name": "python",
   "nbconvert_exporter": "python",
   "pygments_lexer": "ipython3",
   "version": "3.10.12"
  }
 },
 "nbformat": 4,
 "nbformat_minor": 5
}
